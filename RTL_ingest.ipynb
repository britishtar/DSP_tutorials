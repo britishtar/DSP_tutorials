{
 "cells": [
  {
   "cell_type": "markdown",
   "metadata": {},
   "source": [
    "# Capturing and Exploring Data from the RTL SDR\n",
    "\n",
    "NOTES:\n",
    "+ You need an RTL SDR dongle to capture data. They can be purchased for about \\$20 on Amazon.\n",
    "+ Data capture requires the **pyrtlsdr** library. Install with pip.\n",
    "+ Saving the data in SigMF format requires the **sigmf** library, which can be found on github [here](https://github.com/gnuradio/SigMF)\n",
    "+ `read_samples()` cannot capture an arbitrary number of samples. 4 seconds is about the maximum I am able to read without erroring out\n",
    "+ If you get an error when trying to read samples, chances are you will need to restart the IPython kernel\n",
    "\n",
    "References:\n",
    "+ https://witestlab.poly.edu/blog/capture-and-decode-fm-radio/\n",
    "+ https://tomroelandts.com/articles/how-to-create-a-simple-low-pass-filter\n",
    "+ https://en.wikipedia.org/wiki/Heterodyne\n",
    "+ https://en.wikipedia.org/wiki/Downsampling_(signal_processing)"
   ]
  },
  {
   "cell_type": "code",
   "execution_count": null,
   "metadata": {},
   "outputs": [],
   "source": [
    "%matplotlib inline"
   ]
  },
  {
   "cell_type": "code",
   "execution_count": null,
   "metadata": {},
   "outputs": [],
   "source": [
    "from rtlsdr import RtlSdr\n",
    "import cmath\n",
    "import numpy as np\n",
    "from scipy import signal\n",
    "import matplotlib.pyplot as plt\n",
    "from matplotlib import animation, rc\n",
    "from IPython.display import HTML\n",
    "from IPython.display import Audio\n",
    "import datetime as dt"
   ]
  },
  {
   "cell_type": "code",
   "execution_count": null,
   "metadata": {},
   "outputs": [],
   "source": [
    "help(RtlSdr)"
   ]
  },
  {
   "cell_type": "markdown",
   "metadata": {},
   "source": [
    "## Using pyrtlsdr to interact with the device"
   ]
  },
  {
   "cell_type": "code",
   "execution_count": null,
   "metadata": {},
   "outputs": [],
   "source": [
    "#Get a list of detected devices (how many dongles do you have plugged in?)\n",
    "serial_numbers = RtlSdr.get_device_serial_addresses()\n",
    "print(\"List of Serial Numbers: {}\".format(serial_numbers)) # Default serial number for all Rafael Micro R820T/2 chips is \"1\"\n",
    "\n",
    "# You can interact with the device by serial number, or you can also use a \"device index\"\n",
    "device_index = RtlSdr.get_device_index_by_serial('00000001') # Find the device index for a given serial number\n",
    "print(\"Device Index for SN {}: {}\".format('00000001', device_index))"
   ]
  },
  {
   "cell_type": "code",
   "execution_count": null,
   "metadata": {},
   "outputs": [],
   "source": [
    "# Instantiate an RtlSdrAio object\n",
    "sdr = RtlSdr(serial_number='00000001')"
   ]
  },
  {
   "cell_type": "code",
   "execution_count": null,
   "metadata": {},
   "outputs": [],
   "source": [
    "# Check some properties\n",
    "print(sdr.get_tuner_type())\n",
    "print(sdr.get_gains())\n",
    "\n",
    "# Configure the dongle\n",
    "sdr.sample_rate = 2.048e6 # samples/second\n",
    "sdr.center_freq = 100e6 # Hz (The Rafael Micro R820T/2 chipset supports 24 - 1766 MHz)\n",
    "#sdr.freq_correction = 1 # ppm\n",
    "sdr.gain = \"auto\" # dB"
   ]
  },
  {
   "cell_type": "code",
   "execution_count": null,
   "metadata": {},
   "outputs": [],
   "source": [
    "# Confirm settings\n",
    "print(\"Sample rate is: {} samples/sec\".format(sdr.get_sample_rate()))\n",
    "print(\"Center frequency is set to: {} Hz\".format(sdr.get_center_freq()))\n",
    "print(\"Frequency offset correction set to: {} parts per million\".format(sdr.get_freq_correction()))\n",
    "print(\"Gan: {} dB (0.0 = automatic gain control\".format(sdr.get_gain()))\n",
    "print(\"Bandwidth is: {}\".format(sdr.get_bandwidth()))"
   ]
  },
  {
   "cell_type": "code",
   "execution_count": null,
   "metadata": {},
   "outputs": [],
   "source": [
    "help(sdr.read_samples)"
   ]
  },
  {
   "cell_type": "code",
   "execution_count": null,
   "metadata": {},
   "outputs": [],
   "source": [
    "# Capture data for one 2048-point FFT and PSD plot\n",
    "samples = sdr.read_samples(2048)"
   ]
  },
  {
   "cell_type": "markdown",
   "metadata": {},
   "source": [
    "Plot the [**Power Spectral Density (PSD)**](https://en.wikipedia.org/wiki/Spectral_density) using pyplot's builtin function. This will give us an idea of what signals are out there.\n",
    "+ See [this reference page](https://matplotlib.org/3.1.1/api/_as_gen/matplotlib.pyplot.psd.html)"
   ]
  },
  {
   "cell_type": "code",
   "execution_count": null,
   "metadata": {},
   "outputs": [],
   "source": [
    "fig, ax = plt.subplots(figsize=(16,5))\n",
    "\n",
    "Pxx, freqs = ax.psd(x=samples,\n",
    "                    NFFT=2048,\n",
    "                    Fs=sdr.sample_rate,\n",
    "                    Fc=sdr.center_freq,\n",
    "                    detrend=None,\n",
    "                    window=None,\n",
    "                    noverlap=None,\n",
    "                    pad_to=None,\n",
    "                    sides='twosided',\n",
    "                    scale_by_freq=None,\n",
    "                    return_line=None)"
   ]
  },
  {
   "cell_type": "code",
   "execution_count": null,
   "metadata": {},
   "outputs": [],
   "source": [
    "# Capture 4 seconds of data and plot using specgram\n",
    "timestamp = dt.datetime.now() # we will use this later\n",
    "samples = sdr.read_samples(4 * sdr.sample_rate)\n",
    "Fs = sdr.get_sample_rate()\n",
    "Fc = sdr.get_center_freq()\n",
    "\n",
    "fig, ax = plt.subplots(figsize=(16,12))\n",
    "_ = ax.specgram(x=samples,\n",
    "             NFFT=2048,\n",
    "             Fs=Fs,\n",
    "             Fc=Fc,\n",
    "             detrend=None,\n",
    "             window=None, \n",
    "             noverlap=None,\n",
    "             cmap=None,\n",
    "             xextent=None,\n",
    "             pad_to=None,\n",
    "             sides='twosided',\n",
    "             scale_by_freq=None,\n",
    "             mode=None,\n",
    "             scale=None)"
   ]
  },
  {
   "cell_type": "markdown",
   "metadata": {},
   "source": [
    "I see a two traces of energy within this ~2 MHz bandwidth.  One at 100.5 MHz and one at 99.7 MHz, corresponding to FM radio stations in my area. Your results will be different based on what radio stations are present in your environment.\n",
    "\n",
    "I am interested in the trace at 99.7 MHz, since it looks stronger. First, I want to \"shift\" the 99.7 MHz signal to the center of my bandwidth (i.e., \"baseband\"). It will help if we stop applying the frequency correction labels and consider the actual frequency components of our sampled data."
   ]
  },
  {
   "cell_type": "code",
   "execution_count": null,
   "metadata": {},
   "outputs": [],
   "source": [
    "fig, ax = plt.subplots(figsize=(16,5))\n",
    "\n",
    "Pxx, freqs = ax.psd(x=samples,\n",
    "                    NFFT=2048,\n",
    "                    Fs=sdr.sample_rate,\n",
    "                    Fc=0, # notice that I've adjusted this to zero, which actually changes nothing except the labels\n",
    "                    detrend=None,\n",
    "                    window=None,\n",
    "                    noverlap=None,\n",
    "                    pad_to=None,\n",
    "                    sides='twosided',\n",
    "                    scale_by_freq=None,\n",
    "                    return_line=None)"
   ]
  },
  {
   "cell_type": "markdown",
   "metadata": {},
   "source": [
    "Now I am viewing the PSD plot without the adjusted frequency labels. I can see that my trace of interest is centered at -3e5 Hz (-300 KHz), or 300 kHz to the left of baseband. I want to adjust this up to 0 Hz (this is called **\"basebanding\"** the signal, or bringing it \"down to baseband\"). The way we do this is a process called **\"heterodyning\"**, which is a fancy name for something that is actually fairly simple, especially when working with complex data.\n",
    "\n",
    "[**Heterodyning**](https://en.wikipedia.org/wiki/Heterodyne) is simply multiplying the signal with a pure sinusoid. This has the effect of \"shifting\" all of the frequency content. You can see how this works mathematically:\n",
    "\n",
    "$$\n",
    "e^{j2{\\pi}f_1t}{\\cdot}e^{j2{\\pi}f_2t} = e^{j2{\\pi}(f_1+f_2)t}\n",
    "$$\n",
    "\n",
    "So, if $f_1 = -300$ kHz is the frequency of my signal, and I want to shift it to $f_1 + f_2 = 0.0$, then I need $f_2$ to be $0.0 - (-300) = +300$ kHz."
   ]
  },
  {
   "cell_type": "code",
   "execution_count": null,
   "metadata": {},
   "outputs": [],
   "source": [
    "# \"upconvert\" the -300 kHz signal to center by mixing with a 3e5 Hz sinusoid\n",
    "f2 = -5.0e5 # Hz\n",
    "# create a pure sinusoid at freq = f2\n",
    "t = np.arange(0,len(samples))/sdr.sample_rate # time steps (sample_period = 1/sample_rate)\n",
    "mixing_signal = np.exp(1j*2*np.pi*f2*t) # complex sinusoid at 300 kHz\n",
    "\n",
    "shifted = samples * mixing_signal"
   ]
  },
  {
   "cell_type": "code",
   "execution_count": null,
   "metadata": {},
   "outputs": [],
   "source": [
    "# Plot PSD to make sure it worked\n",
    "fig, ax = plt.subplots(figsize=(16,5))\n",
    "\n",
    "Pxx, freqs = ax.psd(x=shifted,\n",
    "                    NFFT=2048,\n",
    "                    Fs=sdr.sample_rate,\n",
    "                    Fc=0,\n",
    "                    detrend=None,\n",
    "                    window=None,\n",
    "                    noverlap=None,\n",
    "                    pad_to=None,\n",
    "                    sides='twosided',\n",
    "                    scale_by_freq=None,\n",
    "                    return_line=None)"
   ]
  },
  {
   "cell_type": "markdown",
   "metadata": {},
   "source": [
    "Now I want to filter out all the other frequencies I don't care about. I can do this using a **Low Pass Filter**, a very handy signal processing technique.\n",
    "\n",
    "Low-pass filter reference:\n",
    "+ https://tomroelandts.com/articles/how-to-create-a-simple-low-pass-filter\n",
    "\n",
    "For a cutoff frequency of 100 kHz (which will result in a 200 MHz two-sided bandwidth):\n",
    "\n",
    "$$\n",
    "\\frac{200000}{F_s} = \\frac{f_{cutoff-fractional}}{0.5}\n",
    "$$"
   ]
  },
  {
   "cell_type": "code",
   "execution_count": null,
   "metadata": {},
   "outputs": [],
   "source": [
    "# Create a low-pass filter\n",
    "cutoff = 150.0e3 # cutoff frequency\n",
    "frac = cutoff/sdr.sample_rate\n",
    "N = int(np.ceil(4/.02)) # number of filter taps (coefficients)\n",
    "if N % 2: N += 1\n",
    "w = np.blackman(N)\n",
    "sinc = np.sinc(2 * frac * (np.arange(N) - (N-1)/2))\n",
    "h = sinc * w\n",
    "\n",
    "# Apply the filter\n",
    "filtered = np.convolve(shifted, h)\n",
    "\n",
    "# Plot the spectrogram\n",
    "fig, ax = plt.subplots(figsize=(16,8))\n",
    "_ = ax.specgram(x=filtered,\n",
    "             NFFT=2048,\n",
    "             Fs=sdr.sample_rate,\n",
    "             Fc=sdr.center_freq,\n",
    "             detrend=None,\n",
    "             window=None, \n",
    "             noverlap=None,\n",
    "             cmap=None,\n",
    "             xextent=None,\n",
    "             pad_to=None,\n",
    "             sides='twosided',\n",
    "             scale_by_freq=None,\n",
    "             mode=None,\n",
    "             scale=None)"
   ]
  },
  {
   "cell_type": "code",
   "execution_count": null,
   "metadata": {},
   "outputs": [],
   "source": [
    "# Plot the PSD\n",
    "fig, ax = plt.subplots(figsize=(16,5))\n",
    "Pxx, freqs = ax.psd(x=filtered[:200 * 2048],\n",
    "                    NFFT=2048,\n",
    "                    Fs=sdr.sample_rate,\n",
    "                    Fc=sdr.center_freq,\n",
    "                    detrend=None,\n",
    "                    window=None,\n",
    "                    noverlap=None,\n",
    "                    pad_to=None,\n",
    "                    sides='twosided',\n",
    "                    scale_by_freq=None,\n",
    "                    return_line=None)"
   ]
  },
  {
   "cell_type": "markdown",
   "metadata": {},
   "source": [
    "It looks like the low-pass filter worked, so now I am left with just the signal I am interested in, centered at baseband. However, the sample rate is still very high, and if I try to convert it into an audio signal it won't work. I need to reduce the sample rate using a process called [**downsampling**](https://en.wikipedia.org/wiki/Downsampling_(signal_processing)), also called **decimation**.\n",
    "\n",
    "**Downsampling** is much easier if you downsample by an integer factor. There are a number of different methods for downsampling, each having its pros/cons. I will use the simplest downsampling method by just taking every $n^{th}$ sample and throwing the rest out."
   ]
  },
  {
   "cell_type": "code",
   "execution_count": null,
   "metadata": {},
   "outputs": [],
   "source": [
    "# Downsample (\"decimate\") to a sample rate within range of sound card (44.1 KHz is typical digital audio sample rate)\n",
    "r = 10 # decimation rate\n",
    "if len(filtered)%r > 0:\n",
    "    filtered = filtered[:-(len(filtered)%r)] # truncate to a multiple of the decimation rate\n",
    "print(\"Decimating to {} samples/sec\".format(sdr.sample_rate/r))\n",
    "#downsampled = np.mean(filtered.reshape(-1,r),1) # downsample by taking average of every 'r' samples\n",
    "downsampled = filtered[::r] # downsample by throwing out all except every 'r' samples"
   ]
  },
  {
   "cell_type": "code",
   "execution_count": null,
   "metadata": {
    "scrolled": true
   },
   "outputs": [],
   "source": [
    "# Take a look at our new decimated baseband signal in a spectrogram\n",
    "fig, ax = plt.subplots(figsize=(16,5))\n",
    "_ = ax.specgram(x=downsampled,\n",
    "             NFFT=256,\n",
    "             Fs=sdr.sample_rate/r,\n",
    "             Fc=0,\n",
    "             detrend=None,\n",
    "             window=None, \n",
    "             noverlap=None,\n",
    "             cmap=None,\n",
    "             xextent=None,\n",
    "             pad_to=None,\n",
    "             sides='twosided',\n",
    "             scale_by_freq=None,\n",
    "             mode=None,\n",
    "             scale=None)"
   ]
  },
  {
   "cell_type": "code",
   "execution_count": null,
   "metadata": {},
   "outputs": [],
   "source": [
    "# Plot the PSD\n",
    "fig, ax = plt.subplots(figsize=(16,5))\n",
    "Pxx, freqs = ax.psd(x=downsampled,\n",
    "                    NFFT=2048,\n",
    "                    Fs=sdr.sample_rate/r,\n",
    "                    Fc=0,\n",
    "                    detrend=None,\n",
    "                    window=None,\n",
    "                    noverlap=None,\n",
    "                    pad_to=None,\n",
    "                    sides='twosided',\n",
    "                    scale_by_freq=None,\n",
    "                    return_line=None)"
   ]
  },
  {
   "cell_type": "markdown",
   "metadata": {},
   "source": [
    "Complex baseband samples are sometimes viewed in a [**constellation diagram**](https://en.wikipedia.org/wiki/Constellation_diagram#:~:text=A%20constellation%20diagram%20is%20a,plane%20at%20symbol%20sampling%20instants.), where the *in-phase (I)* dimension (i.e., real part) of each sample is plotted against the *quadrature (Q)* dimension (i.e., imaginary part).\n",
    "\n",
    "This results in a projection (flattening) of the time dimension onto the complex plane, and can be thought of as \"looking down the barrel\" of the signal."
   ]
  },
  {
   "cell_type": "code",
   "execution_count": null,
   "metadata": {},
   "outputs": [],
   "source": [
    "# Plot the constellation for 1/100th of a second\n",
    "plt.scatter(np.real(downsampled[:2048]), np.imag(downsampled[:2048]), color=\"red\", alpha=0.05)  "
   ]
  },
  {
   "cell_type": "markdown",
   "metadata": {},
   "source": [
    "To **demodulate an FM signal**, we need to compute the instantaneous frequency of the carrier at each sample. Remember that the frequency of a signal is simply how fast the phase term changes (i.e., how many times the complex representation rotates around the origin every second). So frequency is actually the first derivative of phase:\n",
    "\n",
    "$$\n",
    "f = \\frac{d{\\Theta}}{dt}\n",
    "$$\n",
    "\n",
    "So, to compute an estimate of instantaneous frequency, we simply need to compute the phase at each sample, and subtract the phase at the previous sample:\n",
    "\n",
    "$$\n",
    "f = \\frac{d{\\Theta}}{dt} = \\frac{{\\Theta}_2 - {\\Theta}_1}{{\\Delta}t}\n",
    "$$\n",
    "\n",
    "...And, since we don't really care about scaling (scaling only raises or lowers the gain (think volume)), we can actually throw out the ${\\Delta}t$ term:\n",
    "\n",
    "$$\n",
    "f {\\propto} [{\\Theta}_2 - {\\Theta}_1]\n",
    "$$\n",
    "\n",
    "Now, it seems like it should be easy to just compute the phase angle of every sample, then take the difference between subsequent samples:"
   ]
  },
  {
   "cell_type": "code",
   "execution_count": null,
   "metadata": {},
   "outputs": [],
   "source": [
    "angles = np.angle(downsampled)\n",
    "diffs = np.diff(angles)\n",
    "\n",
    "Audio(diffs, rate=sdr.sample_rate/r, autoplay=True)"
   ]
  },
  {
   "cell_type": "markdown",
   "metadata": {},
   "source": [
    "...but, it just sounds like static.  We'll find there's an issue here, which I will point out in a second. Instead, we will use a technique called a **polar discriminator** to compute the difference between subsequent phase angles.\n",
    "\n",
    "This technique consists of rotating each sample by the opposite phase angle for the previous sample. In the complex plane, rotation is accomplished by multiplication with a complex number with a phase angle equal to the desired rotation, and magnitude 1:"
   ]
  },
  {
   "cell_type": "code",
   "execution_count": null,
   "metadata": {},
   "outputs": [],
   "source": [
    "# Rotate (1 + 1j) by pi/6 radians\n",
    "\n",
    "s1 = 1 + 1j\n",
    "xs = [0,np.real(s1)]\n",
    "ys = [0,np.imag(s1)]\n",
    "plt.plot(xs, ys, label=\"s1\")\n",
    "\n",
    "phase = np.pi/6\n",
    "radius = 1\n",
    "s2 = cmath.rect(radius, phase)\n",
    "xs = [0, np.real(s2)]\n",
    "ys = [0, np.imag(s2)]\n",
    "plt.plot(xs,ys,label=\"s2 (rotator)\")\n",
    "\n",
    "s3 = s1 * s2\n",
    "xs = [0,np.real(s3)]\n",
    "ys = [0,np.imag(s3)]\n",
    "plt.plot(xs, ys, label=\"product\")\n",
    "print(\"Angle of s1: {},\\nAngle of s2: {},\\nAngle of product: {}\".format(np.angle(s1), np.angle(s2), np.angle(s3)))\n",
    "\n",
    "s4 = s1 * np.conj(s2) # multiplying by complex conjugate subtracts the phase angle\n",
    "xs = [0,np.real(s4)]\n",
    "ys = [0,np.imag(s4)]\n",
    "plt.plot(xs, ys, label=\"product with conjugate\")\n",
    "\n",
    "plt.xlim((-2,2))\n",
    "plt.ylim((-2,2))\n",
    "plt.legend()\n",
    "plt.gca().set_aspect('equal')\n",
    "print(np.absolute(s4))"
   ]
  },
  {
   "cell_type": "markdown",
   "metadata": {},
   "source": [
    "So, we can see that by multiplying each sample by the complex conjugate of the previous sample, we will get a series of complex numbers whose phase angles represent the differences between consecutive phase angles"
   ]
  },
  {
   "cell_type": "code",
   "execution_count": null,
   "metadata": {},
   "outputs": [],
   "source": [
    "# FM Demodulate\n",
    "\n",
    "# counter-rotate each sample by the previous sample's phase angle\n",
    "rotated = downsampled[1:] * np.conj(downsampled[:len(downsampled)-1])\n",
    "\n",
    "# compute phase angle (this will equal the difference in phase between subsequent samples)\n",
    "deltas = np.angle(rotated)"
   ]
  },
  {
   "cell_type": "code",
   "execution_count": null,
   "metadata": {},
   "outputs": [],
   "source": [
    "Audio(deltas, rate=sdr.sample_rate/r, autoplay=True)"
   ]
  },
  {
   "cell_type": "markdown",
   "metadata": {},
   "source": [
    "So, why all this additional mathematical jiu-jitsu with multiplying by the complex conjugate?  Why can't we just take a simple diff between angle representations of the samples?\n",
    "\n",
    "Let's take a look at what that provides:"
   ]
  },
  {
   "cell_type": "code",
   "execution_count": null,
   "metadata": {},
   "outputs": [],
   "source": [
    "plt.plot(diffs[:50], label='straight differences')\n",
    "plt.plot(deltas[:50], label='jiu jitsu')\n",
    "plt.legend()"
   ]
  },
  {
   "cell_type": "markdown",
   "metadata": {},
   "source": [
    "So, it looks like the phase differences are equal most of the time, but every so often they are way off. What's going on here?"
   ]
  },
  {
   "cell_type": "code",
   "execution_count": null,
   "metadata": {},
   "outputs": [],
   "source": [
    "i = 0\n",
    "while diffs[i] - deltas[i] < 1e-10:\n",
    "    i += 1\n",
    "print(diffs[i])\n",
    "print(deltas[i])\n",
    "\n",
    "diffs[i] - deltas[i]"
   ]
  },
  {
   "cell_type": "markdown",
   "metadata": {},
   "source": [
    "What we notice here is that the phase angle is off by $2\\pi$, which means the phase angles are actually equal! There is no difference, except that when you compute the phase angle first, then take the difference, it is possible to get a resulting phase angle anywhere within \\($-2\\pi$,$2\\pi$\\).  When you use the polar discriminator, the final angle is computed after the rotation, and will only give angles within ($-\\pi$, $\\pi$).\n",
    "\n",
    "We can fix this with a DSP technique called [\"phase wrapping\"](https://en.wikipedia.org/wiki/Instantaneous_phase_and_frequency)."
   ]
  },
  {
   "cell_type": "code",
   "execution_count": null,
   "metadata": {},
   "outputs": [],
   "source": [
    "adjusted_diffs = np.zeros(len(diffs))\n",
    "for i, angle in np.ndenumerate(diffs):\n",
    "    if angle > np.pi:\n",
    "        adjusted_diffs[i] = angle - 2*np.pi\n",
    "    elif angle < -np.pi:\n",
    "        adjusted_diffs[i] = angle + 2*np.pi\n",
    "    else:\n",
    "        adjusted_diffs[i] = angle"
   ]
  },
  {
   "cell_type": "code",
   "execution_count": null,
   "metadata": {},
   "outputs": [],
   "source": [
    "plt.plot(adjusted_diffs[:50], label=\"adjusted diffs\")\n",
    "plt.plot(deltas[:50], label=\"deltas\")\n",
    "plt.legend()"
   ]
  },
  {
   "cell_type": "markdown",
   "metadata": {},
   "source": [
    "Now we see that our results are the same as the polar discriminator. Let's listend and see:"
   ]
  },
  {
   "cell_type": "code",
   "execution_count": null,
   "metadata": {},
   "outputs": [],
   "source": [
    "Audio(adjusted_diffs, rate=sdr.sample_rate/r, autoplay=True)"
   ]
  },
  {
   "cell_type": "markdown",
   "metadata": {},
   "source": [
    "What if we want to retrieve this capture later?  Let's save the raw data and use the [SigMF metadata format](https://github.com/gnuradio/SigMF) to store the details--things that someone else might need to know in order to use the data:\n",
    "+ frequency\n",
    "+ sample rate\n",
    "+ data type and format\n",
    "\n",
    "Along with other data that might be useful for people to know:\n",
    "+ date and time recorded\n",
    "+ equipment used, etc...\n",
    "\n",
    "We will need to install the SigMF python modules:\n",
    "\n",
    "```console\n",
    "$ git clone https://github.com/gnuradio/SigMF.git\n",
    "$ cd SigMF\n",
    "$ python -m pip install .\n",
    "```"
   ]
  },
  {
   "cell_type": "code",
   "execution_count": null,
   "metadata": {},
   "outputs": [],
   "source": [
    "import sigmf\n",
    "from sigmf import SigMFFile"
   ]
  },
  {
   "cell_type": "code",
   "execution_count": null,
   "metadata": {},
   "outputs": [],
   "source": [
    "samples.dtype"
   ]
  },
  {
   "cell_type": "code",
   "execution_count": null,
   "metadata": {},
   "outputs": [],
   "source": [
    "sdr.get_sample_rate()"
   ]
  },
  {
   "cell_type": "code",
   "execution_count": null,
   "metadata": {},
   "outputs": [],
   "source": [
    "# specify filename to save the data:\n",
    "filename = 'FM-radio-sample-data.sigmf-data' # per the SigMF spec, the raw data has the '.sigmf-data' extension\n",
    "\n",
    "# SigMF core module only supports single-precision floats, need to convert to 32-bit I and 32-bit Q:\n",
    "temp = samples.astype(np.complex64)\n",
    "# use numpy's built-in function to write an array to a file:\n",
    "temp.tofile(filename)"
   ]
  },
  {
   "cell_type": "code",
   "execution_count": null,
   "metadata": {},
   "outputs": [],
   "source": [
    "# create the metadata:\n",
    "meta = SigMFFile(data_file=filename,\n",
    "                global_info={\n",
    "                    SigMFFile.DATATYPE_KEY: 'cf32_le', # complex floating point, little endian\n",
    "                    SigMFFile.SAMPLE_RATE_KEY: Fs,\n",
    "                    SigMFFile.AUTHOR_KEY: 'britishtar@yahoo.com',\n",
    "                    SigMFFile.DESCRIPTION_KEY: 'FM Radio Recording for DSP tutorial',\n",
    "                    SigMFFile.VERSION_KEY: sigmf.__version__,\n",
    "                })\n",
    "\n",
    "# this is a \"capture key\" for time index 0\n",
    "meta.add_capture(0, metadata={\n",
    "    SigMFFile.FREQUENCY_KEY: Fc,\n",
    "    SigMFFile.DATETIME_KEY: timestamp.isoformat()+'Z',\n",
    "})\n",
    "\n",
    "# this is an annotation for the FM radio trace at 99.7 MHz\n",
    "meta.add_annotation(0, len(samples), metadata={\n",
    "    SigMFFile.FLO_KEY: (99.7e6 - 100e3),\n",
    "    SigMFFile.FHI_KEY: (99.7e6 + 100e3),\n",
    "    SigMFFile.COMMENT_KEY: \"K-Ci and JoJo - 'All My Life'\",\n",
    "})\n",
    "\n",
    "# this is an annotation for the FM radio trace at 100.5 MHz\n",
    "meta.add_annotation(0, len(samples), metadata={\n",
    "    SigMFFile.FLO_KEY: (100.5e6 - 100e3),\n",
    "    SigMFFile.FHI_KEY: (100.5e6 + 100e3),\n",
    "    SigMFFile.COMMENT_KEY: \"A random advertisement\",\n",
    "})\n",
    "\n",
    "# write the metadata to disk\n",
    "meta.tofile('FM-radio-sample-data.sigmf-meta')\n",
    "\n",
    "# validate the metadata tag\n",
    "assert meta.validate(), print(meta.validate())"
   ]
  },
  {
   "cell_type": "markdown",
   "metadata": {},
   "source": [
    "This metadata fails validation because it doesn't think the annotations are ordered properly.  However, I intended them to annotate the entire length of the clip, so there really isn't an order.  The [SigMF spec](https://github.com/gnuradio/SigMF/blob/master/sigmf-spec.md#annotation-segment-objects) even states:\n",
    "\n",
    "\"If two annotations have the same `sample_start`, there is no defined ordering between them.\"\n",
    "\n",
    "So I think this is fine."
   ]
  },
  {
   "cell_type": "code",
   "execution_count": null,
   "metadata": {},
   "outputs": [],
   "source": [
    "np.complex128"
   ]
  },
  {
   "cell_type": "code",
   "execution_count": null,
   "metadata": {},
   "outputs": [],
   "source": [
    "samples = np.fromfile('FM-radio-sample-data.sigmf-data', dtype=np.complex64)"
   ]
  },
  {
   "cell_type": "code",
   "execution_count": null,
   "metadata": {},
   "outputs": [],
   "source": [
    "fig, ax = plt.subplots(figsize=(16,12))\n",
    "_ = ax.specgram(x=samples,\n",
    "             NFFT=2048,\n",
    "#              Fs=Fs,\n",
    "#              Fc=Fc,\n",
    "             detrend=None,\n",
    "             window=None, \n",
    "             noverlap=None,\n",
    "             cmap=None,\n",
    "             xextent=None,\n",
    "             pad_to=None,\n",
    "             sides='twosided',\n",
    "             scale_by_freq=None,\n",
    "             mode=None,\n",
    "             scale=None)"
   ]
  },
  {
   "cell_type": "code",
   "execution_count": null,
   "metadata": {},
   "outputs": [],
   "source": [
    "# \"upconvert\" the -300 kHz signal to center by mixing with a 3e5 Hz sinusoid\n",
    "f2 = 3.0e5 # Hz\n",
    "# create a pure sinusoid at freq = f2\n",
    "t = np.arange(0,len(samples))/sdr.sample_rate # time steps (sample_period = 1/sample_rate)\n",
    "mixing_signal = np.exp(1j*2*np.pi*f2*t) # complex sinusoid at 300 kHz\n",
    "\n",
    "shifted = samples * mixing_signal\n",
    "\n",
    "# Create a low-pass filter\n",
    "cutoff = 150.0e3 # cutoff frequency\n",
    "frac = cutoff/sdr.sample_rate\n",
    "N = int(np.ceil(4/.02)) # number of filter taps (coefficients)\n",
    "if N % 2: N += 1\n",
    "w = np.blackman(N)\n",
    "sinc = np.sinc(2 * frac * (np.arange(N) - (N-1)/2))\n",
    "h = sinc * w\n",
    "\n",
    "# Apply the filter\n",
    "filtered = np.convolve(shifted, h)\n",
    "\n",
    "# Downsample (\"decimate\") to a sample rate within range of sound card (44.1 KHz is typical digital audio sample rate)\n",
    "r = 10 # decimation rate\n",
    "if len(filtered)%r > 0:\n",
    "    filtered = filtered[:-(len(filtered)%r)] # truncate to a multiple of the decimation rate\n",
    "print(\"Decimating to {} samples/sec\".format(sdr.sample_rate/r))\n",
    "#downsampled = np.mean(filtered.reshape(-1,r),1) # downsample by taking average of every 'r' samples\n",
    "downsampled = filtered[::r] # downsample by throwing out all except every 'r' samples\n",
    "\n",
    "# FM Demodulate\n",
    "\n",
    "# counter-rotate each sample by the previous sample's phase angle\n",
    "rotated = downsampled[1:] * np.conj(downsampled[:len(downsampled)-1])\n",
    "\n",
    "# compute phase angle (this will equal the difference in phase between subsequent samples)\n",
    "deltas = np.angle(rotated)"
   ]
  },
  {
   "cell_type": "code",
   "execution_count": null,
   "metadata": {},
   "outputs": [],
   "source": [
    "Audio(deltas, rate=sdr.sample_rate/r, autoplay=True)"
   ]
  },
  {
   "cell_type": "code",
   "execution_count": null,
   "metadata": {},
   "outputs": [],
   "source": [
    "# TODO: decode RBDS data\n",
    "\n",
    "# TODO: isolate/demod left and right stereo channels"
   ]
  }
 ],
 "metadata": {
  "kernelspec": {
   "display_name": "Python 3",
   "language": "python",
   "name": "python3"
  },
  "language_info": {
   "codemirror_mode": {
    "name": "ipython",
    "version": 3
   },
   "file_extension": ".py",
   "mimetype": "text/x-python",
   "name": "python",
   "nbconvert_exporter": "python",
   "pygments_lexer": "ipython3",
   "version": "3.7.9"
  }
 },
 "nbformat": 4,
 "nbformat_minor": 4
}
