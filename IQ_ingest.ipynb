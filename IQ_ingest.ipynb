{
 "cells": [
  {
   "cell_type": "code",
   "execution_count": 1,
   "metadata": {},
   "outputs": [],
   "source": [
    "import numpy as np"
   ]
  },
  {
   "cell_type": "code",
   "execution_count": 3,
   "metadata": {},
   "outputs": [],
   "source": [
    "def read_iq(file, dtype=np.dtype('<f4'), n=-1, header_bytes=0):\n",
    "    \"\"\"\n",
    "    :param file: string; representing full path to IQ file to be ingested; must be interleaved IQ\n",
    "    :param dtype: numpy.dtype; describes how the bytes in the fixed-size block of memory corresponding to an\n",
    "    array item should be interpreted (see https://numpy.org/doc/stable/reference/arrays.dtypes.html#arrays-dtypes-constructing)\n",
    "    :param n: integer; number of items to read\n",
    "    :param header_bytes: integer; number of bytes to skip at the beginning of the file (default 0)\n",
    "    :return: numpy array of complex numbers representing IQ data\n",
    "    \"\"\"\n",
    "    with open(file, 'rb') as data_file:\n",
    "        data = np.fromfile(data_file, dtype=dtype, count=n, offset=header_bytes)\n",
    "    return data.astype(np.float64).view(np.complex128)"
   ]
  },
  {
   "cell_type": "code",
   "execution_count": null,
   "metadata": {},
   "outputs": [],
   "source": [
    "filepath = '/path/to/iq_file'\n",
    "data = read_iq(filepath, dtype=np.dtype('<f4'), n=1000 * 1024)"
   ]
  }
 ],
 "metadata": {
  "kernelspec": {
   "display_name": "Python 3",
   "language": "python",
   "name": "python3"
  },
  "language_info": {
   "codemirror_mode": {
    "name": "ipython",
    "version": 3
   },
   "file_extension": ".py",
   "mimetype": "text/x-python",
   "name": "python",
   "nbconvert_exporter": "python",
   "pygments_lexer": "ipython3",
   "version": "3.7.5"
  }
 },
 "nbformat": 4,
 "nbformat_minor": 4
}
